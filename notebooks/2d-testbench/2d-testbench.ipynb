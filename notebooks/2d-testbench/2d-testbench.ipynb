{
 "cells": [
  {
   "cell_type": "code",
   "execution_count": null,
   "metadata": {},
   "outputs": [],
   "source": [
    "# variables with suffix '_n' denote that nudged data are being used\n",
    "# variables with prefix 'd' denote derivative\n",
    "\n",
    "# dependencies\n",
    "using Base.Iterators\n",
    "using MovingWeightedLeastSquares\n",
    "using Plots\n",
    "using Cubature\n",
    "using Interpolations\n",
    "\n",
    "# initialization of PyPlot plotting backend\n",
    "pyplot();"
   ]
  },
  {
   "cell_type": "code",
   "execution_count": null,
   "metadata": {},
   "outputs": [],
   "source": [
    "# initialize the dataset in this Jupyter notebook cell\n",
    "\n",
    "# from, to, step\n",
    "from = -1.95;\n",
    "to = 1.95;\n",
    "step = 0.975/2^3;\n",
    "# a random number in interval (-ng/2, ng/2) will be added to each x in xs\n",
    "ng = .2;\n",
    "# function to be approximated\n",
    "f = (x, y) -> exp(-(x^2 + y^2));\n",
    "df = (x, y) -> 4 * x * y * exp(-(x^2 + y^2));\n",
    "# weight function\n",
    "w = (d, e) -> exp(-d^2/0.28^2);\n",
    "# degree of used polynomial for approximation\n",
    "deg = 4;\n",
    "# eps of the weight function\n",
    "eps = 3*step;\n",
    "# attempts for time measurement\n",
    "time_tries = 10;"
   ]
  },
  {
   "cell_type": "code",
   "execution_count": null,
   "metadata": {},
   "outputs": [],
   "source": [
    "rg = from:step:to;\n",
    "tozipxs = collect(from:step:to);\n",
    "xs = transpose(hcat(collect.(collect(product(tozipxs,tozipxs)))[:]...));\n",
    "\n",
    "# comment the line below, if repeated evaluation with the same nudges is needed\n",
    "rnd_n = ng * rand(size(xs)) - ng/2;\n",
    "xs_n = xs .+ rnd_n;\n",
    "\n",
    "fs = [f(xs[i, :]...) for i in 1:size(xs, 1)];\n",
    "fs_n = [f(xs_n[i, :]...) for i in 1:size(xs_n, 1)];\n",
    "dfs = [df(xs[i, :]...) for i in 1:size(xs_n, 1)];\n",
    "dfs_n = [df(xs_n[i, :]...) for i in 1:size(xs_n, 1)];\n",
    "size(xs, 1)"
   ]
  },
  {
   "cell_type": "code",
   "execution_count": null,
   "metadata": {},
   "outputs": [],
   "source": [
    "# creation of approximation objects\n",
    "kd = mwls_kd(xs, fs, eps, w, maxDegree = deg);\n",
    "kd_n = mwls_kd(xs_n, fs_n, eps, w, maxDegree = deg);\n",
    "cll = mwls_cll(xs, fs, eps, w, maxDegree = deg);\n",
    "cll_n = mwls_cll(xs_n, fs_n, eps, w, maxDegree = deg);"
   ]
  },
  {
   "cell_type": "code",
   "execution_count": null,
   "metadata": {},
   "outputs": [],
   "source": [
    "function plot_func(xs::Vector{T}, ys::Vector{T}, zs::Vector{T}, savename::String) where {T <: Real}\n",
    "    p = plot(xs, ys, zs, xlabel = \"x\", ylabel = \"y\", linetype = :surface)\n",
    "    savefig(p, \"$savename.pdf\")\n",
    "    p\n",
    "end"
   ]
  },
  {
   "cell_type": "code",
   "execution_count": null,
   "metadata": {},
   "outputs": [],
   "source": [
    "function plot_func(xs::Array{T}, ys::Vector{T}, savename::String) where {T <: Real}\n",
    "    plot_func(xs[:, 1], xs[:, 2], ys, savename)\n",
    "end"
   ]
  },
  {
   "cell_type": "code",
   "execution_count": null,
   "metadata": {},
   "outputs": [],
   "source": [
    "function plot_func(b::Real, e::Real, f, savename::String; step::Real = 0.1)\n",
    "    tozip = collect(b:step:e)\n",
    "    xs = transpose(hcat(collect.(collect(product(tozip,tozip)))[:]...))\n",
    "    plot_func(xs[:, 1], xs[:, 2], [f(xs[i, 1], xs[i, 2]) for i in 1:size(xs, 1)], savename);\n",
    "end"
   ]
  },
  {
   "cell_type": "code",
   "execution_count": null,
   "metadata": {},
   "outputs": [],
   "source": [
    "function plot_func(b::Real, e::Real, f::MwlsObject, ref, savename::String; step::Real = 0.1)\n",
    "    tozip = collect(b:step:e)\n",
    "    xs = transpose(hcat(collect.(collect(product(tozip,tozip)))[:]...))\n",
    "    ys = [norm(f(xs[i, :]) - ref(xs[i, :]...)) for i in 1:size(xs, 1)]\n",
    "    plot_func(xs[:, 1], xs[:, 2], ys, savename);\n",
    "end"
   ]
  },
  {
   "cell_type": "code",
   "execution_count": null,
   "metadata": {},
   "outputs": [],
   "source": [
    "function plot_func(b::Real, e::Real, f, ref, savename::String; step::Real = 0.1)\n",
    "    tozip = collect(b:step:e)\n",
    "    xs = transpose(hcat(collect.(collect(product(tozip,tozip)))[:]...))\n",
    "    ys = [norm(f[xs[i, :]...] - ref(xs[i, :]...)) for i in 1:size(xs, 1)]\n",
    "    plot_func(xs[:, 1], xs[:, 2], ys, savename);\n",
    "end"
   ]
  },
  {
   "cell_type": "code",
   "execution_count": null,
   "metadata": {},
   "outputs": [],
   "source": [
    "function plot_dfunc_err(b::Real, e::Real, f::MwlsObject, ref, savename::String; step::Real = 0.1)\n",
    "    tozip = collect(b:step:e)\n",
    "    xs = transpose(hcat(collect.(collect(product(tozip,tozip)))[:]...))\n",
    "    ys = [norm(mwls_diff(f, xs[i, :], (1, 1)) - ref(xs[i, :]...)) for i in 1:size(xs, 1)]\n",
    "    plot_func(xs[:, 1], xs[:, 2], ys, savename)\n",
    "end"
   ]
  },
  {
   "cell_type": "code",
   "execution_count": null,
   "metadata": {},
   "outputs": [],
   "source": [
    "# graph of the original function\n",
    "plot_func(from, to, f, \"orig\")"
   ]
  },
  {
   "cell_type": "code",
   "execution_count": null,
   "metadata": {},
   "outputs": [],
   "source": [
    "plot_func(from, to, df, \"derived\")"
   ]
  },
  {
   "cell_type": "code",
   "execution_count": null,
   "metadata": {},
   "outputs": [],
   "source": [
    "function errfunc(obj::MwlsObject, reffunc::Function, b, e)\n",
    "    hcubature(x -> abs(obj(x) - reffunc(x[1], x[2]))/(e - b)^2, [b, b], [e, e], abstol = 1e-1)\n",
    "end"
   ]
  },
  {
   "cell_type": "code",
   "execution_count": null,
   "metadata": {},
   "outputs": [],
   "source": [
    "function derrfunc(obj::MwlsObject, reffunc::Function, b, e)\n",
    "    hcubature(x -> abs(mwls_diff(obj, x, (1, 1)) - reffunc(x[1], x[2]))/(e - b)^2, [b, b], [e, e], abstol = 1e-1)\n",
    "end"
   ]
  },
  {
   "cell_type": "code",
   "execution_count": null,
   "metadata": {},
   "outputs": [],
   "source": [
    "plot_func(from, to, cll, f, \"cll-err\")"
   ]
  },
  {
   "cell_type": "code",
   "execution_count": null,
   "metadata": {
    "scrolled": true
   },
   "outputs": [],
   "source": [
    "# error of the approximation\n",
    "errfunc(cll, f, from, to)"
   ]
  },
  {
   "cell_type": "code",
   "execution_count": null,
   "metadata": {},
   "outputs": [],
   "source": [
    "plot_dfunc_err(from, to, kd, df, \"dkd-err\")"
   ]
  },
  {
   "cell_type": "code",
   "execution_count": null,
   "metadata": {},
   "outputs": [],
   "source": [
    "derrfunc(kd, df, from, to)"
   ]
  },
  {
   "cell_type": "code",
   "execution_count": null,
   "metadata": {},
   "outputs": [],
   "source": [
    "plot_dfunc_err(from, to, kd_n, df, \"dkd-err-n\")"
   ]
  },
  {
   "cell_type": "code",
   "execution_count": null,
   "metadata": {},
   "outputs": [],
   "source": [
    "# error of the approximation\n",
    "errfunc(kd_n, f, from, to)"
   ]
  },
  {
   "cell_type": "code",
   "execution_count": null,
   "metadata": {},
   "outputs": [],
   "source": [
    "plot_dfunc_err(from, to, cll_n, df, \"dcll-err-n\")"
   ]
  },
  {
   "cell_type": "code",
   "execution_count": null,
   "metadata": {},
   "outputs": [],
   "source": [
    "derrfunc(cll_n, df, from, to)"
   ]
  },
  {
   "cell_type": "code",
   "execution_count": null,
   "metadata": {},
   "outputs": [],
   "source": [
    "function interpolations_mass_approx(obj, xs::Array{T}) where {T <: Real}\n",
    "    [obj[xs[i, :]...] for i in 1:size(xs, 1)]\n",
    "end"
   ]
  },
  {
   "cell_type": "code",
   "execution_count": null,
   "metadata": {},
   "outputs": [],
   "source": [
    "function interpolations_errfunc(obj, reffunc, b, e)\n",
    "    hcubature(x -> abs(obj[x...] - reffunc(x[1], x[2]))/(e - b)^2, [b, b], [e, e], abstol = 1e-2)\n",
    "end"
   ]
  },
  {
   "cell_type": "code",
   "execution_count": null,
   "metadata": {},
   "outputs": [],
   "source": [
    "# init of the interpolation object from Interpolations.jl\n",
    "itp = scale(interpolate([f(x1, x2) for x1 in rg, x2 in rg], BSpline(Cubic(Line())), OnGrid()), rg, rg);"
   ]
  },
  {
   "cell_type": "code",
   "execution_count": null,
   "metadata": {},
   "outputs": [],
   "source": [
    "plot_func(from, to, itp, f, \"bsplines-err\")"
   ]
  },
  {
   "cell_type": "code",
   "execution_count": null,
   "metadata": {},
   "outputs": [],
   "source": [
    "interpolations_errfunc(itp, f, from, to)"
   ]
  }
 ],
 "metadata": {
  "kernelspec": {
   "display_name": "Julia 0.6.2",
   "language": "julia",
   "name": "julia-0.6"
  },
  "language_info": {
   "file_extension": ".jl",
   "mimetype": "application/julia",
   "name": "julia",
   "version": "0.6.2"
  }
 },
 "nbformat": 4,
 "nbformat_minor": 2
}
