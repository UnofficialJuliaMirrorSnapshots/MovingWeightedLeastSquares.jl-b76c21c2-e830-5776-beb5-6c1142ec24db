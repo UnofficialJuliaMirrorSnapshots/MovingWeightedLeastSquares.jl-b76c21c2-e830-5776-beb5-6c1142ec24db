{
 "cells": [
  {
   "cell_type": "code",
   "execution_count": null,
   "metadata": {},
   "outputs": [],
   "source": [
    "# variables with suffix '_n' denote that nudged data are being used\n",
    "# variables with prefix 'd' denote derivative\n",
    "\n",
    "# dependencies\n",
    "using MovingWeightedLeastSquares\n",
    "using Plots\n",
    "using Cubature\n",
    "using Interpolations\n",
    "\n",
    "# initialization of pyplot plotting backend\n",
    "pyplot();"
   ]
  },
  {
   "cell_type": "code",
   "execution_count": null,
   "metadata": {},
   "outputs": [],
   "source": [
    "# initialize the dataset in this Jupyter notebook cell\n",
    "\n",
    "# from, to, step\n",
    "from = -4;\n",
    "to = 4;\n",
    "step = 0.2;\n",
    "# a random number in interval (-ng/2, ng/2) will be added to each x in xs\n",
    "ng = .2;\n",
    "# function to be approximated\n",
    "f = x -> sin(2x)/2;\n",
    "# its derivative\n",
    "df = x -> cos(2x);\n",
    "# weight function\n",
    "w = (d, e) -> exp(-d^2);\n",
    "# degree of the polynomial used for approximation\n",
    "deg = 3;\n",
    "# eps of the weight function\n",
    "eps = 3step;\n",
    "# attempts for time measurement\n",
    "time_tries = 10;"
   ]
  },
  {
   "cell_type": "code",
   "execution_count": null,
   "metadata": {},
   "outputs": [],
   "source": [
    "rg = from:step:to\n",
    "xs = collect(rg) # input sample data\n",
    "# comment the line below, if repeated evaluation with the same nudges is needed\n",
    "rnd_n = ng * rand(size(xs)) - ng/2;\n",
    "xs_n = xs .+ rnd_n;\n",
    "fs = [f(x) for x in xs]; # output sample data\n",
    "fs_n = [f(x) for x in xs_n];\n",
    "dfs = [df(x) for x in xs];\n",
    "dfs_n = [df(x) for x in xs_n];\n",
    "\n",
    "# creation of approximation objects\n",
    "# nv = mwls_naive(xs, fs, eps, w, maxDegree = deg);\n",
    "# nv_n = mwls_naive(xs_n, fs_n, eps, w, maxDegree = deg);\n",
    "kd = mwls_kd(xs, fs, eps, w, maxDegree = deg);\n",
    "kd_n = mwls_kd(xs_n, fs_n, eps, w, maxDegree = deg);\n",
    "cll = mwls_cll(xs, fs, eps, w, maxDegree = deg);\n",
    "cll_n = mwls_cll(xs_n, fs_n, eps, w, maxDegree = deg);"
   ]
  },
  {
   "cell_type": "code",
   "execution_count": null,
   "metadata": {},
   "outputs": [],
   "source": [
    "function plot_func(xs::Vector{T}, ys::Vector{T}, savename::String; ylabel::String = \"\", step::Real = 0.01) where {T <: Real}\n",
    "    p = plot(xs, ys, ylabel = ylabel, legend = false)\n",
    "    savefig(p, \"$savename.pdf\")\n",
    "    p\n",
    "end"
   ]
  },
  {
   "cell_type": "code",
   "execution_count": null,
   "metadata": {},
   "outputs": [],
   "source": [
    "function plot_func(b::Real, e::Real, f, savename::String; ylabel::String = \"\", step::Real = 0.01)\n",
    "    xs = collect(b:step:e)\n",
    "    fs = [f(x) for x in xs]\n",
    "    plot_func(xs, fs, savename, ylabel = ylabel)\n",
    "end"
   ]
  },
  {
   "cell_type": "code",
   "execution_count": null,
   "metadata": {},
   "outputs": [],
   "source": [
    "function plot_func(b::Real, e::Real, f::MwlsObject, reff, savename::String; ylabel::String = \"\", step::Real = 0.01)\n",
    "    xs = collect(b:step:e)\n",
    "    fs = [norm(f(x) - reff(x)) for x in xs]\n",
    "    plot_func(xs, fs, savename, ylabel = ylabel)\n",
    "end"
   ]
  },
  {
   "cell_type": "code",
   "execution_count": null,
   "metadata": {},
   "outputs": [],
   "source": [
    "function plot_func(b::Real, e::Real, f, reff, savename::String; ylabel::String = \"\", step::Real = 0.01)\n",
    "    xs = collect(b:step:e)\n",
    "    fs = [norm(f[x] - reff(x)) for x in xs]\n",
    "    plot_func(xs, fs, savename, ylabel = ylabel)\n",
    "end"
   ]
  },
  {
   "cell_type": "code",
   "execution_count": null,
   "metadata": {},
   "outputs": [],
   "source": [
    "function plot_dfunc_err(b::Real, e::Real, f::MwlsObject, reff, savename::String; ylabel::String = \"\", step::Real = 0.01)\n",
    "    xs = collect(b:step:e)\n",
    "    fs = [norm(mwls_diff(f, x, 1) - reff(x)) for x in xs]\n",
    "    plot_func(xs, fs, savename, ylabel = ylabel)\n",
    "end"
   ]
  },
  {
   "cell_type": "code",
   "execution_count": null,
   "metadata": {},
   "outputs": [],
   "source": [
    "function plot_dfunc_err(b::Real, e::Real, f, reff, savename::String; ylabel::String = \"\", step::Real = 0.01)\n",
    "    xs = collect(b:step:e)\n",
    "    fs = [norm(gradient(f, x) - reff(x)) for x in xs]\n",
    "    plot_func(xs, fs, savename, ylabel = ylabel)\n",
    "end"
   ]
  },
  {
   "cell_type": "code",
   "execution_count": null,
   "metadata": {},
   "outputs": [],
   "source": [
    "function errfunc(obj::MwlsObject, reffunc::Function, b, e)\n",
    "    hquadrature(x -> abs(obj(x) - reffunc(x))/(e - b), b, e, abstol = 1e-8)\n",
    "end"
   ]
  },
  {
   "cell_type": "code",
   "execution_count": null,
   "metadata": {},
   "outputs": [],
   "source": [
    "function derrfunc(obj::MwlsObject, reffunc::Function, b, e)\n",
    "    hquadrature(x -> abs(mwls_diff(obj, x, 1) - reffunc(x))/(e - b), b, e, abstol = 1e-8 )\n",
    "end"
   ]
  },
  {
   "cell_type": "code",
   "execution_count": null,
   "metadata": {},
   "outputs": [],
   "source": [
    "# graph of the original function\n",
    "plot_func(from, to, f, \"orig\")"
   ]
  },
  {
   "cell_type": "code",
   "execution_count": null,
   "metadata": {},
   "outputs": [],
   "source": [
    "plot_func(from, to, df, \"der\")"
   ]
  },
  {
   "cell_type": "code",
   "execution_count": null,
   "metadata": {
    "scrolled": true
   },
   "outputs": [],
   "source": [
    "plot_func(from, to, kd, f, \"kd-err\")"
   ]
  },
  {
   "cell_type": "code",
   "execution_count": null,
   "metadata": {},
   "outputs": [],
   "source": [
    "# error of the approximation\n",
    "errfunc(kd, f, from, to)"
   ]
  },
  {
   "cell_type": "code",
   "execution_count": null,
   "metadata": {},
   "outputs": [],
   "source": [
    "plot_func(from, to, cll_n, f, \"cll-err-n\")"
   ]
  },
  {
   "cell_type": "code",
   "execution_count": null,
   "metadata": {},
   "outputs": [],
   "source": [
    "errfunc(cll_n, f, from, to)"
   ]
  },
  {
   "cell_type": "code",
   "execution_count": null,
   "metadata": {
    "scrolled": false
   },
   "outputs": [],
   "source": [
    "plot_dfunc_err(from, to, cll, df, \"dcll-err\")"
   ]
  },
  {
   "cell_type": "code",
   "execution_count": null,
   "metadata": {},
   "outputs": [],
   "source": [
    "derrfunc(cll, df, from, to)"
   ]
  },
  {
   "cell_type": "code",
   "execution_count": null,
   "metadata": {},
   "outputs": [],
   "source": [
    "plot_dfunc_err(from, to, kd_n, df, \"dkd-err-n\")"
   ]
  },
  {
   "cell_type": "code",
   "execution_count": null,
   "metadata": {},
   "outputs": [],
   "source": [
    "derrfunc(kd_n, df, from, to)"
   ]
  },
  {
   "cell_type": "code",
   "execution_count": null,
   "metadata": {},
   "outputs": [],
   "source": [
    "function interpolations_errfunc(obj, reffunc, b, e; tol::Real = 1e-8)\n",
    "    hquadrature(x -> abs(obj[x] - reffunc(x))/(e - b), b, e, abstol = tol)\n",
    "end"
   ]
  },
  {
   "cell_type": "code",
   "execution_count": null,
   "metadata": {},
   "outputs": [],
   "source": [
    "function interpolations_derrfunc(obj, reffunc, b, e; tol::Real = 1e-8)\n",
    "    hquadrature(x -> abs(gradient(obj, x)[1] - reffunc(x))/(e - b), b, e, abstol = tol)\n",
    "end"
   ]
  },
  {
   "cell_type": "code",
   "execution_count": null,
   "metadata": {},
   "outputs": [],
   "source": [
    "# init of the interpolation object from Interpolations.jl\n",
    "itp = scale(interpolate(fs, BSpline(Quadratic(Free())), OnGrid()), rg);"
   ]
  },
  {
   "cell_type": "code",
   "execution_count": null,
   "metadata": {},
   "outputs": [],
   "source": [
    "# init of the interpolation object using nudged outputs\n",
    "itp_n = scale(interpolate(fs_n, BSpline(Quadratic(Free())), OnGrid()), rg);"
   ]
  },
  {
   "cell_type": "code",
   "execution_count": null,
   "metadata": {},
   "outputs": [],
   "source": [
    "plot_func(from, to, itp, f, \"bsplines-err\")"
   ]
  },
  {
   "cell_type": "code",
   "execution_count": null,
   "metadata": {},
   "outputs": [],
   "source": [
    "interpolations_errfunc(itp, f, from, to; tol = 1e-20)"
   ]
  },
  {
   "cell_type": "code",
   "execution_count": null,
   "metadata": {},
   "outputs": [],
   "source": [
    "plot_dfunc_err(from, to, itp, df, \"dbsplines-err\")"
   ]
  },
  {
   "cell_type": "code",
   "execution_count": null,
   "metadata": {},
   "outputs": [],
   "source": [
    "interpolations_derrfunc(itp, df, from, to)"
   ]
  },
  {
   "cell_type": "code",
   "execution_count": null,
   "metadata": {},
   "outputs": [],
   "source": [
    "plot_func(from, to, itp_n, f, \"bsplines-err-n\")"
   ]
  },
  {
   "cell_type": "code",
   "execution_count": null,
   "metadata": {},
   "outputs": [],
   "source": [
    "interpolations_errfunc(itp_n, f, from, to)"
   ]
  },
  {
   "cell_type": "code",
   "execution_count": null,
   "metadata": {},
   "outputs": [],
   "source": [
    "plot_dfunc_err(from, to, itp_n, df, \"dbsplines-err-n\")"
   ]
  },
  {
   "cell_type": "code",
   "execution_count": null,
   "metadata": {},
   "outputs": [],
   "source": [
    "interpolations_derrfunc(itp_n, df, from, to)"
   ]
  }
 ],
 "metadata": {
  "kernelspec": {
   "display_name": "Julia 0.6.2",
   "language": "julia",
   "name": "julia-0.6"
  },
  "language_info": {
   "file_extension": ".jl",
   "mimetype": "application/julia",
   "name": "julia",
   "version": "0.6.2"
  }
 },
 "nbformat": 4,
 "nbformat_minor": 2
}
